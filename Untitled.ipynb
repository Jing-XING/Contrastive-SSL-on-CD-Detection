{
 "cells": [
  {
   "cell_type": "code",
   "execution_count": 3,
   "id": "b52b6403-610d-4688-97cd-fcc127fa3768",
   "metadata": {},
   "outputs": [
    {
     "data": {
      "text/plain": [
       "ERROR: Could not find `tensorboard`. Please ensure that your PATH\n",
       "contains an executable `tensorboard` program, or explicitly specify\n",
       "the path to a TensorBoard binary by setting the `TENSORBOARD_BINARY`\n",
       "environment variable."
      ]
     },
     "metadata": {},
     "output_type": "display_data"
    }
   ],
   "source": [
    "# Load the TensorBoard notebook extension.\n",
    "import os\n",
    "os.environ['TENSORBOARD_BINARY'] = '/opt/data/home-jing/.local/lib/python3.9/site-packages/tensorboard'\n",
    "%load_ext tensorboard\n",
    "\n",
    "# Setting --path_prefix /tensorboard is required\n",
    "%tensorboard --logdir= --path_prefix /tensorboard\n"
   ]
  },
  {
   "cell_type": "code",
   "execution_count": 4,
   "id": "4d3fb109-7c81-4832-a35d-24d193177ba3",
   "metadata": {},
   "outputs": [
    {
     "name": "stdout",
     "output_type": "stream",
     "text": [
      "The tensorboard extension is already loaded. To reload it, use:\n",
      "  %reload_ext tensorboard\n"
     ]
    }
   ],
   "source": [
    "%load_ext tensorboard\n"
   ]
  },
  {
   "cell_type": "code",
   "execution_count": 5,
   "id": "8a9692b9-647f-4c6f-8a2c-b3fdab0a22a0",
   "metadata": {},
   "outputs": [
    {
     "data": {
      "text/plain": [
       "ERROR: Could not find `tensorboard`. Please ensure that your PATH\n",
       "contains an executable `tensorboard` program, or explicitly specify\n",
       "the path to a TensorBoard binary by setting the `TENSORBOARD_BINARY`\n",
       "environment variable."
      ]
     },
     "metadata": {},
     "output_type": "display_data"
    }
   ],
   "source": [
    "%tensorboard --logdir=fold1\n"
   ]
  },
  {
   "cell_type": "code",
   "execution_count": null,
   "id": "9408d57b-3cb2-458d-9872-1e448ab89bb0",
   "metadata": {},
   "outputs": [],
   "source": []
  }
 ],
 "metadata": {
  "kernelspec": {
   "display_name": "Python 3 (ipykernel)",
   "language": "python",
   "name": "python3"
  },
  "language_info": {
   "codemirror_mode": {
    "name": "ipython",
    "version": 3
   },
   "file_extension": ".py",
   "mimetype": "text/x-python",
   "name": "python",
   "nbconvert_exporter": "python",
   "pygments_lexer": "ipython3",
   "version": "3.9.7"
  }
 },
 "nbformat": 4,
 "nbformat_minor": 5
}
